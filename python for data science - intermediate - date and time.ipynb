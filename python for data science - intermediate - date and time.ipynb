{
 "cells": [
  {
   "cell_type": "code",
   "execution_count": 1,
   "metadata": {},
   "outputs": [],
   "source": [
    "import csv\n",
    "import pprint as pp\n",
    "import datetime as dt"
   ]
  },
  {
   "cell_type": "code",
   "execution_count": 2,
   "metadata": {},
   "outputs": [],
   "source": [
    "# reading contents from a CSV file\n",
    "def read_csv(file_name, header=True):\n",
    "    with open(file_name, encoding='utf8') as fd:\n",
    "        all_data = list(csv.reader(fd))\n",
    "    \n",
    "    if header:\n",
    "        return all_data[0], all_data[1:]\n",
    "    return all_data"
   ]
  },
  {
   "cell_type": "code",
   "execution_count": 3,
   "metadata": {},
   "outputs": [],
   "source": [
    "# prints first 5 lines of a dataset\n",
    "def first_five(dataset):\n",
    "    for row in dataset[:5]:\n",
    "        print(row)"
   ]
  },
  {
   "cell_type": "code",
   "execution_count": 4,
   "metadata": {},
   "outputs": [],
   "source": [
    "# convert the give column into a datetime object\n",
    "def convert_to_datetime(index, dt_format, dataset):\n",
    "    for row in dataset:\n",
    "        date = row[index]\n",
    "        date = dt.datetime.strptime(date, dt_format)\n",
    "        row[index] = date"
   ]
  },
  {
   "cell_type": "code",
   "execution_count": 5,
   "metadata": {},
   "outputs": [],
   "source": [
    "# generate frequency table for number of visitors per month\n",
    "def get_visitors_per_month(dataset):\n",
    "    visitors_per_month = dict()\n",
    "    \n",
    "    for row in dataset:\n",
    "        date = row[2]\n",
    "        month = date.strftime('%B, %Y')\n",
    "        visitors_per_month[month] = visitors_per_month.get(month, 0) + 1\n",
    "    \n",
    "    return visitors_per_month"
   ]
  },
  {
   "cell_type": "code",
   "execution_count": 6,
   "metadata": {},
   "outputs": [],
   "source": [
    "# get the frequency of appointment lengths\n",
    "def get_appointment_length(dataset):\n",
    "    appt_lengths = dict()\n",
    "    \n",
    "    for row in dataset:\n",
    "        length = row[3] - row[2] # appt_end_date - appt_start_date\n",
    "        appt_lengths[length] = appt_lengths.get(length, 0) + 1\n",
    "    \n",
    "    return appt_lengths"
   ]
  },
  {
   "cell_type": "code",
   "execution_count": 7,
   "metadata": {},
   "outputs": [],
   "source": [
    "header, potus = read_csv('potus_visitors_2015.csv')"
   ]
  },
  {
   "cell_type": "code",
   "execution_count": 8,
   "metadata": {
    "scrolled": true
   },
   "outputs": [
    {
     "name": "stdout",
     "output_type": "stream",
     "text": [
      "['Joshua T. Blanton', '2014-12-18T00:00:00', '1/6/15 9:30', '1/6/15 23:59', '', 'potus', 'west wing', 'JointService Military Honor Guard']\n",
      "['Jack T. Gutting', '2014-12-18T00:00:00', '1/6/15 9:30', '1/6/15 23:59', '', 'potus', 'west wing', 'JointService Military Honor Guard']\n",
      "['Bradley T. Guiles', '2014-12-18T00:00:00', '1/6/15 9:30', '1/6/15 23:59', '', 'potus', 'west wing', 'JointService Military Honor Guard']\n",
      "['Loryn F. Grieb', '2014-12-18T00:00:00', '1/6/15 9:30', '1/6/15 23:59', '', 'potus', 'west wing', 'JointService Military Honor Guard']\n",
      "['Travis D. Gordon', '2014-12-18T00:00:00', '1/6/15 9:30', '1/6/15 23:59', '', 'potus', 'west wing', 'JointService Military Honor Guard']\n"
     ]
    }
   ],
   "source": [
    "first_five(potus)"
   ]
  },
  {
   "cell_type": "code",
   "execution_count": 9,
   "metadata": {},
   "outputs": [],
   "source": [
    "convert_to_datetime(2, '%m/%d/%y %H:%M', potus) # column 'appt_start_date'"
   ]
  },
  {
   "cell_type": "code",
   "execution_count": 10,
   "metadata": {
    "scrolled": true
   },
   "outputs": [
    {
     "name": "stdout",
     "output_type": "stream",
     "text": [
      "['Joshua T. Blanton', '2014-12-18T00:00:00', datetime.datetime(2015, 1, 6, 9, 30), '1/6/15 23:59', '', 'potus', 'west wing', 'JointService Military Honor Guard']\n",
      "['Jack T. Gutting', '2014-12-18T00:00:00', datetime.datetime(2015, 1, 6, 9, 30), '1/6/15 23:59', '', 'potus', 'west wing', 'JointService Military Honor Guard']\n",
      "['Bradley T. Guiles', '2014-12-18T00:00:00', datetime.datetime(2015, 1, 6, 9, 30), '1/6/15 23:59', '', 'potus', 'west wing', 'JointService Military Honor Guard']\n",
      "['Loryn F. Grieb', '2014-12-18T00:00:00', datetime.datetime(2015, 1, 6, 9, 30), '1/6/15 23:59', '', 'potus', 'west wing', 'JointService Military Honor Guard']\n",
      "['Travis D. Gordon', '2014-12-18T00:00:00', datetime.datetime(2015, 1, 6, 9, 30), '1/6/15 23:59', '', 'potus', 'west wing', 'JointService Military Honor Guard']\n"
     ]
    }
   ],
   "source": [
    "first_five(potus)"
   ]
  },
  {
   "cell_type": "code",
   "execution_count": 11,
   "metadata": {},
   "outputs": [],
   "source": [
    "convert_to_datetime(3, '%m/%d/%y %H:%M', potus) # column 'appt_end_date'"
   ]
  },
  {
   "cell_type": "code",
   "execution_count": 12,
   "metadata": {},
   "outputs": [
    {
     "name": "stdout",
     "output_type": "stream",
     "text": [
      "['Joshua T. Blanton', '2014-12-18T00:00:00', datetime.datetime(2015, 1, 6, 9, 30), datetime.datetime(2015, 1, 6, 23, 59), '', 'potus', 'west wing', 'JointService Military Honor Guard']\n",
      "['Jack T. Gutting', '2014-12-18T00:00:00', datetime.datetime(2015, 1, 6, 9, 30), datetime.datetime(2015, 1, 6, 23, 59), '', 'potus', 'west wing', 'JointService Military Honor Guard']\n",
      "['Bradley T. Guiles', '2014-12-18T00:00:00', datetime.datetime(2015, 1, 6, 9, 30), datetime.datetime(2015, 1, 6, 23, 59), '', 'potus', 'west wing', 'JointService Military Honor Guard']\n",
      "['Loryn F. Grieb', '2014-12-18T00:00:00', datetime.datetime(2015, 1, 6, 9, 30), datetime.datetime(2015, 1, 6, 23, 59), '', 'potus', 'west wing', 'JointService Military Honor Guard']\n",
      "['Travis D. Gordon', '2014-12-18T00:00:00', datetime.datetime(2015, 1, 6, 9, 30), datetime.datetime(2015, 1, 6, 23, 59), '', 'potus', 'west wing', 'JointService Military Honor Guard']\n"
     ]
    }
   ],
   "source": [
    "first_five(potus)"
   ]
  },
  {
   "cell_type": "code",
   "execution_count": 13,
   "metadata": {},
   "outputs": [],
   "source": [
    "visitors_per_month = get_visitors_per_month(potus)"
   ]
  },
  {
   "cell_type": "code",
   "execution_count": 14,
   "metadata": {
    "scrolled": true
   },
   "outputs": [
    {
     "name": "stdout",
     "output_type": "stream",
     "text": [
      "{'April, 2015': 4996,\n",
      " 'August, 2015': 1350,\n",
      " 'December, 2015': 13029,\n",
      " 'February, 2015': 2165,\n",
      " 'January, 2015': 1248,\n",
      " 'July, 2015': 2930,\n",
      " 'June, 2015': 7743,\n",
      " 'March, 2015': 2262,\n",
      " 'May, 2015': 3013,\n",
      " 'November, 2015': 1133,\n",
      " 'October, 2015': 3669,\n",
      " 'September, 2015': 4416}\n"
     ]
    }
   ],
   "source": [
    "pp.pprint(visitors_per_month)"
   ]
  },
  {
   "cell_type": "code",
   "execution_count": 15,
   "metadata": {},
   "outputs": [],
   "source": [
    "appt_times = list()\n",
    "\n",
    "for row in potus:\n",
    "    date = row[2]\n",
    "    appt_times.append(date.time())"
   ]
  },
  {
   "cell_type": "code",
   "execution_count": 16,
   "metadata": {},
   "outputs": [
    {
     "name": "stdout",
     "output_type": "stream",
     "text": [
      "09:30:00\n",
      "09:30:00\n",
      "09:30:00\n",
      "09:30:00\n",
      "09:30:00\n"
     ]
    }
   ],
   "source": [
    "first_five(appt_times)"
   ]
  },
  {
   "cell_type": "code",
   "execution_count": 17,
   "metadata": {},
   "outputs": [],
   "source": [
    "appt_length = get_appointment_length(potus)"
   ]
  },
  {
   "cell_type": "code",
   "execution_count": 18,
   "metadata": {
    "scrolled": false
   },
   "outputs": [
    {
     "name": "stdout",
     "output_type": "stream",
     "text": [
      "{datetime.timedelta(seconds=8940): 9,\n",
      " datetime.timedelta(seconds=10740): 11,\n",
      " datetime.timedelta(seconds=12540): 22,\n",
      " datetime.timedelta(seconds=13440): 1,\n",
      " datetime.timedelta(seconds=13740): 1,\n",
      " datetime.timedelta(seconds=14340): 185,\n",
      " datetime.timedelta(seconds=14940): 1,\n",
      " datetime.timedelta(seconds=15240): 4,\n",
      " datetime.timedelta(seconds=16140): 99,\n",
      " datetime.timedelta(seconds=16740): 1,\n",
      " datetime.timedelta(seconds=17040): 17,\n",
      " datetime.timedelta(seconds=17340): 4,\n",
      " datetime.timedelta(seconds=17640): 2,\n",
      " datetime.timedelta(seconds=17760): 1,\n",
      " datetime.timedelta(seconds=17940): 301,\n",
      " datetime.timedelta(seconds=18120): 2,\n",
      " datetime.timedelta(seconds=18240): 1,\n",
      " datetime.timedelta(seconds=18420): 1,\n",
      " datetime.timedelta(seconds=18540): 11,\n",
      " datetime.timedelta(seconds=18840): 27,\n",
      " datetime.timedelta(seconds=19020): 1,\n",
      " datetime.timedelta(seconds=19140): 6,\n",
      " datetime.timedelta(seconds=19440): 2,\n",
      " datetime.timedelta(seconds=19560): 1,\n",
      " datetime.timedelta(seconds=19740): 985,\n",
      " datetime.timedelta(seconds=19860): 1,\n",
      " datetime.timedelta(seconds=19920): 1,\n",
      " datetime.timedelta(seconds=19980): 1,\n",
      " datetime.timedelta(seconds=20040): 1,\n",
      " datetime.timedelta(seconds=20160): 1,\n",
      " datetime.timedelta(seconds=20220): 1,\n",
      " datetime.timedelta(seconds=20340): 4,\n",
      " datetime.timedelta(seconds=20640): 390,\n",
      " datetime.timedelta(seconds=20760): 1,\n",
      " datetime.timedelta(seconds=21120): 1,\n",
      " datetime.timedelta(seconds=21240): 1,\n",
      " datetime.timedelta(seconds=21300): 1,\n",
      " datetime.timedelta(seconds=21540): 8173,\n",
      " datetime.timedelta(seconds=21600): 2,\n",
      " datetime.timedelta(seconds=21720): 1,\n",
      " datetime.timedelta(seconds=21840): 1,\n",
      " datetime.timedelta(seconds=22140): 4,\n",
      " datetime.timedelta(seconds=22440): 38,\n",
      " datetime.timedelta(seconds=22740): 4,\n",
      " datetime.timedelta(seconds=23040): 17,\n",
      " datetime.timedelta(seconds=23340): 457,\n",
      " datetime.timedelta(seconds=23640): 24,\n",
      " datetime.timedelta(seconds=23940): 16,\n",
      " datetime.timedelta(seconds=24240): 103,\n",
      " datetime.timedelta(seconds=24540): 7,\n",
      " datetime.timedelta(seconds=24840): 6,\n",
      " datetime.timedelta(seconds=25140): 930,\n",
      " datetime.timedelta(seconds=25440): 5,\n",
      " datetime.timedelta(seconds=25740): 3,\n",
      " datetime.timedelta(seconds=25980): 1,\n",
      " datetime.timedelta(seconds=26040): 224,\n",
      " datetime.timedelta(seconds=26340): 12,\n",
      " datetime.timedelta(seconds=26640): 11,\n",
      " datetime.timedelta(seconds=26940): 1144,\n",
      " datetime.timedelta(seconds=27240): 8,\n",
      " datetime.timedelta(seconds=27420): 1,\n",
      " datetime.timedelta(seconds=27540): 1,\n",
      " datetime.timedelta(seconds=27840): 69,\n",
      " datetime.timedelta(seconds=28140): 176,\n",
      " datetime.timedelta(seconds=28380): 1,\n",
      " datetime.timedelta(seconds=28740): 2027,\n",
      " datetime.timedelta(seconds=28860): 1,\n",
      " datetime.timedelta(seconds=29040): 10,\n",
      " datetime.timedelta(seconds=29100): 3,\n",
      " datetime.timedelta(seconds=29160): 1,\n",
      " datetime.timedelta(seconds=29220): 1,\n",
      " datetime.timedelta(seconds=29340): 4,\n",
      " datetime.timedelta(seconds=29400): 3,\n",
      " datetime.timedelta(seconds=29640): 23,\n",
      " datetime.timedelta(seconds=29940): 3,\n",
      " datetime.timedelta(seconds=30240): 2,\n",
      " datetime.timedelta(seconds=30540): 2855,\n",
      " datetime.timedelta(seconds=30660): 2,\n",
      " datetime.timedelta(seconds=30720): 3,\n",
      " datetime.timedelta(seconds=30840): 11,\n",
      " datetime.timedelta(seconds=30960): 1,\n",
      " datetime.timedelta(seconds=31140): 36,\n",
      " datetime.timedelta(seconds=31200): 2,\n",
      " datetime.timedelta(seconds=31320): 1,\n",
      " datetime.timedelta(seconds=31380): 2,\n",
      " datetime.timedelta(seconds=31440): 3732,\n",
      " datetime.timedelta(seconds=31740): 5,\n",
      " datetime.timedelta(seconds=31860): 1,\n",
      " datetime.timedelta(seconds=31920): 2,\n",
      " datetime.timedelta(seconds=32040): 18,\n",
      " datetime.timedelta(seconds=32100): 1,\n",
      " datetime.timedelta(seconds=32280): 16,\n",
      " datetime.timedelta(seconds=32340): 862,\n",
      " datetime.timedelta(seconds=32400): 1,\n",
      " datetime.timedelta(seconds=32640): 13,\n",
      " datetime.timedelta(seconds=32940): 8,\n",
      " datetime.timedelta(seconds=33000): 1,\n",
      " datetime.timedelta(seconds=33240): 1434,\n",
      " datetime.timedelta(seconds=33540): 6,\n",
      " datetime.timedelta(seconds=34140): 921,\n",
      " datetime.timedelta(seconds=34440): 2,\n",
      " datetime.timedelta(seconds=34740): 6,\n",
      " datetime.timedelta(seconds=34860): 1,\n",
      " datetime.timedelta(seconds=35040): 119,\n",
      " datetime.timedelta(seconds=35220): 3,\n",
      " datetime.timedelta(seconds=35340): 9,\n",
      " datetime.timedelta(seconds=35400): 1,\n",
      " datetime.timedelta(seconds=35520): 1,\n",
      " datetime.timedelta(seconds=35760): 1,\n",
      " datetime.timedelta(seconds=35940): 996,\n",
      " datetime.timedelta(seconds=36240): 1,\n",
      " datetime.timedelta(seconds=36420): 1,\n",
      " datetime.timedelta(seconds=36540): 167,\n",
      " datetime.timedelta(seconds=36660): 1,\n",
      " datetime.timedelta(seconds=36720): 1,\n",
      " datetime.timedelta(seconds=36840): 344,\n",
      " datetime.timedelta(seconds=37140): 1,\n",
      " datetime.timedelta(seconds=37440): 4,\n",
      " datetime.timedelta(seconds=37740): 5897,\n",
      " datetime.timedelta(seconds=38040): 2,\n",
      " datetime.timedelta(seconds=38340): 36,\n",
      " datetime.timedelta(seconds=38460): 1,\n",
      " datetime.timedelta(seconds=38640): 272,\n",
      " datetime.timedelta(seconds=38940): 1,\n",
      " datetime.timedelta(seconds=39000): 1,\n",
      " datetime.timedelta(seconds=39240): 1,\n",
      " datetime.timedelta(seconds=39540): 1548,\n",
      " datetime.timedelta(seconds=39600): 2,\n",
      " datetime.timedelta(seconds=39780): 1,\n",
      " datetime.timedelta(seconds=39840): 1,\n",
      " datetime.timedelta(seconds=40140): 2,\n",
      " datetime.timedelta(seconds=40380): 2,\n",
      " datetime.timedelta(seconds=40440): 921,\n",
      " datetime.timedelta(seconds=40740): 2,\n",
      " datetime.timedelta(seconds=41220): 2,\n",
      " datetime.timedelta(seconds=41340): 1115,\n",
      " datetime.timedelta(seconds=41520): 1,\n",
      " datetime.timedelta(seconds=41700): 1,\n",
      " datetime.timedelta(seconds=41820): 1,\n",
      " datetime.timedelta(seconds=41940): 4,\n",
      " datetime.timedelta(seconds=42240): 32,\n",
      " datetime.timedelta(seconds=42480): 1,\n",
      " datetime.timedelta(seconds=42840): 6,\n",
      " datetime.timedelta(seconds=43140): 1041,\n",
      " datetime.timedelta(seconds=43740): 4,\n",
      " datetime.timedelta(seconds=44040): 39,\n",
      " datetime.timedelta(seconds=44220): 2,\n",
      " datetime.timedelta(seconds=44940): 357,\n",
      " datetime.timedelta(seconds=45240): 1,\n",
      " datetime.timedelta(seconds=45540): 7,\n",
      " datetime.timedelta(seconds=45840): 3,\n",
      " datetime.timedelta(seconds=46740): 681,\n",
      " datetime.timedelta(seconds=47040): 2,\n",
      " datetime.timedelta(seconds=47640): 347,\n",
      " datetime.timedelta(seconds=48540): 696,\n",
      " datetime.timedelta(seconds=48840): 13,\n",
      " datetime.timedelta(seconds=49140): 12,\n",
      " datetime.timedelta(seconds=49440): 65,\n",
      " datetime.timedelta(seconds=49740): 2,\n",
      " datetime.timedelta(seconds=50340): 1543,\n",
      " datetime.timedelta(seconds=51240): 220,\n",
      " datetime.timedelta(seconds=51840): 1,\n",
      " datetime.timedelta(seconds=52140): 1213,\n",
      " datetime.timedelta(seconds=53040): 6,\n",
      " datetime.timedelta(seconds=53940): 511,\n",
      " datetime.timedelta(seconds=54840): 249,\n",
      " datetime.timedelta(seconds=55440): 1,\n",
      " datetime.timedelta(seconds=55740): 395,\n",
      " datetime.timedelta(seconds=56220): 1,\n",
      " datetime.timedelta(seconds=57180): 1,\n",
      " datetime.timedelta(seconds=57540): 460,\n",
      " datetime.timedelta(seconds=57600): 1,\n",
      " datetime.timedelta(seconds=59040): 1,\n",
      " datetime.timedelta(seconds=59340): 818,\n",
      " datetime.timedelta(seconds=60240): 40,\n",
      " datetime.timedelta(seconds=61140): 1768,\n",
      " datetime.timedelta(seconds=62940): 32,\n",
      " datetime.timedelta(seconds=64740): 256,\n",
      " datetime.timedelta(days=16, seconds=46740): 102}\n"
     ]
    }
   ],
   "source": [
    "pp.pprint(appt_length)"
   ]
  }
 ],
 "metadata": {
  "kernelspec": {
   "display_name": "Python 3",
   "language": "python",
   "name": "python3"
  },
  "language_info": {
   "codemirror_mode": {
    "name": "ipython",
    "version": 3
   },
   "file_extension": ".py",
   "mimetype": "text/x-python",
   "name": "python",
   "nbconvert_exporter": "python",
   "pygments_lexer": "ipython3",
   "version": "3.7.4"
  },
  "toc": {
   "base_numbering": 1,
   "nav_menu": {},
   "number_sections": true,
   "sideBar": true,
   "skip_h1_title": false,
   "title_cell": "Table of Contents",
   "title_sidebar": "Contents",
   "toc_cell": false,
   "toc_position": {},
   "toc_section_display": true,
   "toc_window_display": false
  },
  "varInspector": {
   "cols": {
    "lenName": 16,
    "lenType": 16,
    "lenVar": 40
   },
   "kernels_config": {
    "python": {
     "delete_cmd_postfix": "",
     "delete_cmd_prefix": "del ",
     "library": "var_list.py",
     "varRefreshCmd": "print(var_dic_list())"
    },
    "r": {
     "delete_cmd_postfix": ") ",
     "delete_cmd_prefix": "rm(",
     "library": "var_list.r",
     "varRefreshCmd": "cat(var_dic_list()) "
    }
   },
   "types_to_exclude": [
    "module",
    "function",
    "builtin_function_or_method",
    "instance",
    "_Feature"
   ],
   "window_display": false
  }
 },
 "nbformat": 4,
 "nbformat_minor": 4
}
