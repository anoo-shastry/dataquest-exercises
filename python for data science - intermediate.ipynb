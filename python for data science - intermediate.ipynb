{
 "cells": [
  {
   "cell_type": "code",
   "execution_count": 1,
   "metadata": {},
   "outputs": [],
   "source": [
    "import csv"
   ]
  },
  {
   "cell_type": "code",
   "execution_count": 2,
   "metadata": {},
   "outputs": [],
   "source": [
    "# reading contents from a CSV file\n",
    "def read_csv(file_name, header=True):\n",
    "    with open(file_name, encoding='utf8') as fd:\n",
    "        all_data = list(csv.reader(fd))\n",
    "    \n",
    "    if header:\n",
    "        return all_data[0], all_data[1:]\n",
    "    return all_data"
   ]
  },
  {
   "cell_type": "code",
   "execution_count": 3,
   "metadata": {},
   "outputs": [],
   "source": [
    "def remove_parentheses(index, dataset):\n",
    "    parentheses = ['(', ')']\n",
    "    \n",
    "    for row in dataset:\n",
    "        value = row[index]\n",
    "        for char in parentheses:\n",
    "            value = value.replace(char, '')\n",
    "        row[index] = value"
   ]
  },
  {
   "cell_type": "code",
   "execution_count": 4,
   "metadata": {},
   "outputs": [],
   "source": [
    "def update_unknown_or_title(index, unknown, dataset):\n",
    "    for row in dataset:\n",
    "        value = row[index]\n",
    "        if value:\n",
    "            row[index] = value.title()\n",
    "        else:\n",
    "            row[index] = unknown"
   ]
  },
  {
   "cell_type": "code",
   "execution_count": 5,
   "metadata": {},
   "outputs": [],
   "source": [
    "header, moma = read_csv('artworks.csv')"
   ]
  },
  {
   "cell_type": "code",
   "execution_count": 6,
   "metadata": {},
   "outputs": [
    {
     "name": "stdout",
     "output_type": "stream",
     "text": [
      "16725\n"
     ]
    }
   ],
   "source": [
    "print(len(moma))"
   ]
  },
  {
   "cell_type": "code",
   "execution_count": 7,
   "metadata": {},
   "outputs": [
    {
     "name": "stdout",
     "output_type": "stream",
     "text": [
      "['Dress MacLeod from Tartan Sets', 'Sarah Charlesworth', '(American)', '(1947)', '(2013)', '(Female)', '1986', 'Prints & Illustrated Books']\n",
      "['Duplicate of plate from folio 11 verso (supplementary suite, plate 4) from ARDICIA', 'Pablo Palazuelo', '(Spanish)', '(1916)', '(2007)', '(Male)', '1978', 'Prints & Illustrated Books']\n",
      "['Tailpiece (page 55) from SAGESSE', 'Maurice Denis', '(French)', '(1870)', '(1943)', '(Male)', '1889-1911', 'Prints & Illustrated Books']\n",
      "['Headpiece (page 129) from LIVRET DE FOLASTRIES, À JANOT PARISIEN', 'Aristide Maillol', '(French)', '(1861)', '(1944)', '(Male)', '1927-1940', 'Prints & Illustrated Books']\n",
      "['97 rue du Bac', 'Eugène Atget', '(French)', '(1857)', '(1927)', '(Male)', '1903', 'Photography']\n"
     ]
    }
   ],
   "source": [
    "for row in moma[:5]:\n",
    "    print(row)"
   ]
  },
  {
   "cell_type": "code",
   "execution_count": 8,
   "metadata": {},
   "outputs": [],
   "source": [
    "remove_parentheses(2, moma) # removing parentheses from 'Nationality' column"
   ]
  },
  {
   "cell_type": "code",
   "execution_count": 9,
   "metadata": {},
   "outputs": [
    {
     "name": "stdout",
     "output_type": "stream",
     "text": [
      "['Dress MacLeod from Tartan Sets', 'Sarah Charlesworth', 'American', '(1947)', '(2013)', '(Female)', '1986', 'Prints & Illustrated Books']\n",
      "['Duplicate of plate from folio 11 verso (supplementary suite, plate 4) from ARDICIA', 'Pablo Palazuelo', 'Spanish', '(1916)', '(2007)', '(Male)', '1978', 'Prints & Illustrated Books']\n",
      "['Tailpiece (page 55) from SAGESSE', 'Maurice Denis', 'French', '(1870)', '(1943)', '(Male)', '1889-1911', 'Prints & Illustrated Books']\n",
      "['Headpiece (page 129) from LIVRET DE FOLASTRIES, À JANOT PARISIEN', 'Aristide Maillol', 'French', '(1861)', '(1944)', '(Male)', '1927-1940', 'Prints & Illustrated Books']\n",
      "['97 rue du Bac', 'Eugène Atget', 'French', '(1857)', '(1927)', '(Male)', '1903', 'Photography']\n"
     ]
    }
   ],
   "source": [
    "for row in moma[:5]:\n",
    "    print(row)"
   ]
  },
  {
   "cell_type": "code",
   "execution_count": 10,
   "metadata": {},
   "outputs": [],
   "source": [
    "remove_parentheses(5, moma) # removing parentheses from 'Gender' column"
   ]
  },
  {
   "cell_type": "code",
   "execution_count": 11,
   "metadata": {
    "scrolled": true
   },
   "outputs": [
    {
     "name": "stdout",
     "output_type": "stream",
     "text": [
      "['Dress MacLeod from Tartan Sets', 'Sarah Charlesworth', 'American', '(1947)', '(2013)', 'Female', '1986', 'Prints & Illustrated Books']\n",
      "['Duplicate of plate from folio 11 verso (supplementary suite, plate 4) from ARDICIA', 'Pablo Palazuelo', 'Spanish', '(1916)', '(2007)', 'Male', '1978', 'Prints & Illustrated Books']\n",
      "['Tailpiece (page 55) from SAGESSE', 'Maurice Denis', 'French', '(1870)', '(1943)', 'Male', '1889-1911', 'Prints & Illustrated Books']\n",
      "['Headpiece (page 129) from LIVRET DE FOLASTRIES, À JANOT PARISIEN', 'Aristide Maillol', 'French', '(1861)', '(1944)', 'Male', '1927-1940', 'Prints & Illustrated Books']\n",
      "['97 rue du Bac', 'Eugène Atget', 'French', '(1857)', '(1927)', 'Male', '1903', 'Photography']\n"
     ]
    }
   ],
   "source": [
    "for row in moma[:5]:\n",
    "    print(row)"
   ]
  },
  {
   "cell_type": "code",
   "execution_count": 12,
   "metadata": {},
   "outputs": [],
   "source": [
    "update_unknown_or_title(2, 'Nationality Unknown', moma)"
   ]
  },
  {
   "cell_type": "code",
   "execution_count": 13,
   "metadata": {},
   "outputs": [
    {
     "name": "stdout",
     "output_type": "stream",
     "text": [
      "['Dress MacLeod from Tartan Sets', 'Sarah Charlesworth', 'American', '(1947)', '(2013)', 'Female', '1986', 'Prints & Illustrated Books']\n",
      "['Duplicate of plate from folio 11 verso (supplementary suite, plate 4) from ARDICIA', 'Pablo Palazuelo', 'Spanish', '(1916)', '(2007)', 'Male', '1978', 'Prints & Illustrated Books']\n",
      "['Tailpiece (page 55) from SAGESSE', 'Maurice Denis', 'French', '(1870)', '(1943)', 'Male', '1889-1911', 'Prints & Illustrated Books']\n",
      "['Headpiece (page 129) from LIVRET DE FOLASTRIES, À JANOT PARISIEN', 'Aristide Maillol', 'French', '(1861)', '(1944)', 'Male', '1927-1940', 'Prints & Illustrated Books']\n",
      "['97 rue du Bac', 'Eugène Atget', 'French', '(1857)', '(1927)', 'Male', '1903', 'Photography']\n"
     ]
    }
   ],
   "source": [
    "for row in moma[:5]:\n",
    "    print(row)"
   ]
  },
  {
   "cell_type": "code",
   "execution_count": 14,
   "metadata": {},
   "outputs": [],
   "source": [
    "update_unknown_or_title(5, 'Gender Unknown/Other', moma)"
   ]
  },
  {
   "cell_type": "code",
   "execution_count": 15,
   "metadata": {
    "scrolled": true
   },
   "outputs": [
    {
     "name": "stdout",
     "output_type": "stream",
     "text": [
      "['Dress MacLeod from Tartan Sets', 'Sarah Charlesworth', 'American', '(1947)', '(2013)', 'Female', '1986', 'Prints & Illustrated Books']\n",
      "['Duplicate of plate from folio 11 verso (supplementary suite, plate 4) from ARDICIA', 'Pablo Palazuelo', 'Spanish', '(1916)', '(2007)', 'Male', '1978', 'Prints & Illustrated Books']\n",
      "['Tailpiece (page 55) from SAGESSE', 'Maurice Denis', 'French', '(1870)', '(1943)', 'Male', '1889-1911', 'Prints & Illustrated Books']\n",
      "['Headpiece (page 129) from LIVRET DE FOLASTRIES, À JANOT PARISIEN', 'Aristide Maillol', 'French', '(1861)', '(1944)', 'Male', '1927-1940', 'Prints & Illustrated Books']\n",
      "['97 rue du Bac', 'Eugène Atget', 'French', '(1857)', '(1927)', 'Male', '1903', 'Photography']\n"
     ]
    }
   ],
   "source": [
    "for row in moma[:5]:\n",
    "    print(row)"
   ]
  }
 ],
 "metadata": {
  "kernelspec": {
   "display_name": "Python 3",
   "language": "python",
   "name": "python3"
  },
  "language_info": {
   "codemirror_mode": {
    "name": "ipython",
    "version": 3
   },
   "file_extension": ".py",
   "mimetype": "text/x-python",
   "name": "python",
   "nbconvert_exporter": "python",
   "pygments_lexer": "ipython3",
   "version": "3.7.4"
  },
  "toc": {
   "base_numbering": 1,
   "nav_menu": {},
   "number_sections": true,
   "sideBar": true,
   "skip_h1_title": false,
   "title_cell": "Table of Contents",
   "title_sidebar": "Contents",
   "toc_cell": false,
   "toc_position": {},
   "toc_section_display": true,
   "toc_window_display": false
  },
  "varInspector": {
   "cols": {
    "lenName": 16,
    "lenType": 16,
    "lenVar": 40
   },
   "kernels_config": {
    "python": {
     "delete_cmd_postfix": "",
     "delete_cmd_prefix": "del ",
     "library": "var_list.py",
     "varRefreshCmd": "print(var_dic_list())"
    },
    "r": {
     "delete_cmd_postfix": ") ",
     "delete_cmd_prefix": "rm(",
     "library": "var_list.r",
     "varRefreshCmd": "cat(var_dic_list()) "
    }
   },
   "types_to_exclude": [
    "module",
    "function",
    "builtin_function_or_method",
    "instance",
    "_Feature"
   ],
   "window_display": false
  }
 },
 "nbformat": 4,
 "nbformat_minor": 4
}
