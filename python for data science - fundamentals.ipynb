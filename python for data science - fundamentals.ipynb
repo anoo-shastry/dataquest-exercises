{
 "cells": [
  {
   "cell_type": "code",
   "execution_count": 1,
   "metadata": {},
   "outputs": [],
   "source": [
    "import csv\n",
    "import pprint as pp"
   ]
  },
  {
   "cell_type": "code",
   "execution_count": 2,
   "metadata": {},
   "outputs": [],
   "source": [
    "# reading contents from a CSV file\n",
    "def read_csv(file_name, header=True):\n",
    "    with open(file_name, encoding='utf8') as fd:\n",
    "        all_data = list(csv.reader(fd))\n",
    "    \n",
    "    if header:\n",
    "        return all_data[0], all_data[1:]\n",
    "    return all_data"
   ]
  },
  {
   "cell_type": "code",
   "execution_count": 3,
   "metadata": {},
   "outputs": [],
   "source": [
    "# generate frequency table\n",
    "def frequency_table(index, dataset):\n",
    "    freq_table = dict()\n",
    "    \n",
    "    for row in dataset:\n",
    "        data = row[index]\n",
    "        freq_table[data] = freq_table.get(data, 0) + 1\n",
    "    \n",
    "    return freq_table"
   ]
  },
  {
   "cell_type": "code",
   "execution_count": 4,
   "metadata": {},
   "outputs": [
    {
     "name": "stdout",
     "output_type": "stream",
     "text": [
      "['284882215', 'Facebook', '389879808', 'USD', '0.0', '2974676', '212', '3.5', '3.5', '95.0', '4+', 'Social Networking', '37', '1', '29', '1']\n",
      "['389801252', 'Instagram', '113954816', 'USD', '0.0', '2161558', '1289', '4.5', '4.0', '10.23', '12+', 'Photo & Video', '37', '0', '29', '1']\n",
      "['529479190', 'Clash of Clans', '116476928', 'USD', '0.0', '2130805', '579', '4.5', '4.5', '9.24.12', '9+', 'Games', '38', '5', '18', '1']\n",
      "['420009108', 'Temple Run', '65921024', 'USD', '0.0', '1724546', '3842', '4.5', '4.0', '1.6.2', '9+', 'Games', '40', '5', '1', '1']\n",
      "['284035177', 'Pandora - Music & Radio', '130242560', 'USD', '0.0', '1126879', '3594', '4.0', '4.5', '8.4.1', '12+', 'Music', '37', '4', '1', '1']\n"
     ]
    }
   ],
   "source": [
    "header, app_store_data = read_csv('AppleStore.csv')\n",
    "\n",
    "for row in app_store_data[:5]:\n",
    "    print(row)"
   ]
  },
  {
   "cell_type": "code",
   "execution_count": 5,
   "metadata": {},
   "outputs": [
    {
     "name": "stdout",
     "output_type": "stream",
     "text": [
      "{'Book': 112,\n",
      " 'Business': 57,\n",
      " 'Catalogs': 10,\n",
      " 'Education': 453,\n",
      " 'Entertainment': 535,\n",
      " 'Finance': 104,\n",
      " 'Food & Drink': 63,\n",
      " 'Games': 3862,\n",
      " 'Health & Fitness': 180,\n",
      " 'Lifestyle': 144,\n",
      " 'Medical': 23,\n",
      " 'Music': 138,\n",
      " 'Navigation': 46,\n",
      " 'News': 75,\n",
      " 'Photo & Video': 349,\n",
      " 'Productivity': 178,\n",
      " 'Reference': 64,\n",
      " 'Shopping': 122,\n",
      " 'Social Networking': 167,\n",
      " 'Sports': 114,\n",
      " 'Travel': 81,\n",
      " 'Utilities': 248,\n",
      " 'Weather': 72}\n"
     ]
    }
   ],
   "source": [
    "genres_ft = frequency_table(11, app_store_data)\n",
    "pp.pprint(genres_ft)"
   ]
  },
  {
   "cell_type": "code",
   "execution_count": 6,
   "metadata": {},
   "outputs": [
    {
     "name": "stdout",
     "output_type": "stream",
     "text": [
      "{'0.0': 929,\n",
      " '1.0': 44,\n",
      " '1.5': 56,\n",
      " '2.0': 106,\n",
      " '2.5': 196,\n",
      " '3.0': 383,\n",
      " '3.5': 702,\n",
      " '4.0': 1626,\n",
      " '4.5': 2663,\n",
      " '5.0': 492}\n"
     ]
    }
   ],
   "source": [
    "ratings_ft = frequency_table(7, app_store_data)\n",
    "pp.pprint(ratings_ft)"
   ]
  },
  {
   "cell_type": "code",
   "execution_count": 7,
   "metadata": {
    "scrolled": true
   },
   "outputs": [
    {
     "name": "stdout",
     "output_type": "stream",
     "text": [
      "{'12+': 1155, '17+': 622, '4+': 4433, '9+': 987}\n"
     ]
    }
   ],
   "source": [
    "content_ratings_ft = frequency_table(10, app_store_data)\n",
    "pp.pprint(content_ratings_ft)"
   ]
  }
 ],
 "metadata": {
  "kernelspec": {
   "display_name": "Python 3",
   "language": "python",
   "name": "python3"
  },
  "language_info": {
   "codemirror_mode": {
    "name": "ipython",
    "version": 3
   },
   "file_extension": ".py",
   "mimetype": "text/x-python",
   "name": "python",
   "nbconvert_exporter": "python",
   "pygments_lexer": "ipython3",
   "version": "3.7.4"
  },
  "toc": {
   "base_numbering": 1,
   "nav_menu": {},
   "number_sections": true,
   "sideBar": true,
   "skip_h1_title": false,
   "title_cell": "Table of Contents",
   "title_sidebar": "Contents",
   "toc_cell": false,
   "toc_position": {},
   "toc_section_display": true,
   "toc_window_display": false
  },
  "varInspector": {
   "cols": {
    "lenName": 16,
    "lenType": 16,
    "lenVar": 40
   },
   "kernels_config": {
    "python": {
     "delete_cmd_postfix": "",
     "delete_cmd_prefix": "del ",
     "library": "var_list.py",
     "varRefreshCmd": "print(var_dic_list())"
    },
    "r": {
     "delete_cmd_postfix": ") ",
     "delete_cmd_prefix": "rm(",
     "library": "var_list.r",
     "varRefreshCmd": "cat(var_dic_list()) "
    }
   },
   "types_to_exclude": [
    "module",
    "function",
    "builtin_function_or_method",
    "instance",
    "_Feature"
   ],
   "window_display": false
  }
 },
 "nbformat": 4,
 "nbformat_minor": 4
}
